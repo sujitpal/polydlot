{
 "cells": [
  {
   "cell_type": "code",
   "execution_count": 1,
   "metadata": {},
   "outputs": [
    {
     "name": "stderr",
     "output_type": "stream",
     "text": [
      "/home/sujit/anaconda3/lib/python3.6/site-packages/h5py/__init__.py:34: FutureWarning: Conversion of the second argument of issubdtype from `float` to `np.floating` is deprecated. In future, it will be treated as `np.float64 == np.dtype(float).type`.\n",
      "  from ._conv import register_converters as _register_converters\n"
     ]
    }
   ],
   "source": [
    "import matplotlib.pyplot as plt\n",
    "import numpy as np\n",
    "import os\n",
    "import pandas as pd\n",
    "import tensorflow as tf\n",
    "%matplotlib inline"
   ]
  },
  {
   "cell_type": "code",
   "execution_count": 2,
   "metadata": {
    "collapsed": true
   },
   "outputs": [],
   "source": [
    "DATA_DIR = \"../../data\"\n",
    "\n",
    "MOVIE_FILE = os.path.join(DATA_DIR, \"movies.csv\")\n",
    "RATINGS_FILE = os.path.join(DATA_DIR, \"ratings.csv\")\n",
    "\n",
    "RESULTS_FILE = os.path.join(DATA_DIR, \"eval_results.csv\")\n",
    "CONSOLE_FILE = os.path.join(DATA_DIR, \"eval_console.txt\")"
   ]
  },
  {
   "cell_type": "markdown",
   "metadata": {},
   "source": [
    "## Extract Data into Sparse Matrix"
   ]
  },
  {
   "cell_type": "code",
   "execution_count": 3,
   "metadata": {},
   "outputs": [
    {
     "data": {
      "text/html": [
       "<div>\n",
       "<style scoped>\n",
       "    .dataframe tbody tr th:only-of-type {\n",
       "        vertical-align: middle;\n",
       "    }\n",
       "\n",
       "    .dataframe tbody tr th {\n",
       "        vertical-align: top;\n",
       "    }\n",
       "\n",
       "    .dataframe thead th {\n",
       "        text-align: right;\n",
       "    }\n",
       "</style>\n",
       "<table border=\"1\" class=\"dataframe\">\n",
       "  <thead>\n",
       "    <tr style=\"text-align: right;\">\n",
       "      <th></th>\n",
       "      <th>movieId</th>\n",
       "      <th>title</th>\n",
       "      <th>genres</th>\n",
       "    </tr>\n",
       "  </thead>\n",
       "  <tbody>\n",
       "    <tr>\n",
       "      <th>0</th>\n",
       "      <td>1</td>\n",
       "      <td>Toy Story (1995)</td>\n",
       "      <td>Adventure|Animation|Children|Comedy|Fantasy</td>\n",
       "    </tr>\n",
       "    <tr>\n",
       "      <th>1</th>\n",
       "      <td>2</td>\n",
       "      <td>Jumanji (1995)</td>\n",
       "      <td>Adventure|Children|Fantasy</td>\n",
       "    </tr>\n",
       "    <tr>\n",
       "      <th>2</th>\n",
       "      <td>3</td>\n",
       "      <td>Grumpier Old Men (1995)</td>\n",
       "      <td>Comedy|Romance</td>\n",
       "    </tr>\n",
       "    <tr>\n",
       "      <th>3</th>\n",
       "      <td>4</td>\n",
       "      <td>Waiting to Exhale (1995)</td>\n",
       "      <td>Comedy|Drama|Romance</td>\n",
       "    </tr>\n",
       "    <tr>\n",
       "      <th>4</th>\n",
       "      <td>5</td>\n",
       "      <td>Father of the Bride Part II (1995)</td>\n",
       "      <td>Comedy</td>\n",
       "    </tr>\n",
       "  </tbody>\n",
       "</table>\n",
       "</div>"
      ],
      "text/plain": [
       "   movieId                               title  \\\n",
       "0        1                    Toy Story (1995)   \n",
       "1        2                      Jumanji (1995)   \n",
       "2        3             Grumpier Old Men (1995)   \n",
       "3        4            Waiting to Exhale (1995)   \n",
       "4        5  Father of the Bride Part II (1995)   \n",
       "\n",
       "                                        genres  \n",
       "0  Adventure|Animation|Children|Comedy|Fantasy  \n",
       "1                   Adventure|Children|Fantasy  \n",
       "2                               Comedy|Romance  \n",
       "3                         Comedy|Drama|Romance  \n",
       "4                                       Comedy  "
      ]
     },
     "execution_count": 3,
     "metadata": {},
     "output_type": "execute_result"
    }
   ],
   "source": [
    "movies_df = pd.read_csv(MOVIE_FILE)\n",
    "movies_df.head()"
   ]
  },
  {
   "cell_type": "code",
   "execution_count": 4,
   "metadata": {
    "collapsed": true
   },
   "outputs": [],
   "source": [
    "movies_id2name, movies_name2id = {}, {}\n",
    "ids = movies_df[\"movieId\"].values\n",
    "titles = movies_df[\"title\"].values\n",
    "for id, title in zip(ids, titles):\n",
    "    movies_id2name[id] = title\n",
    "    movies_name2id[title] = id"
   ]
  },
  {
   "cell_type": "code",
   "execution_count": 5,
   "metadata": {},
   "outputs": [
    {
     "data": {
      "text/html": [
       "<div>\n",
       "<style scoped>\n",
       "    .dataframe tbody tr th:only-of-type {\n",
       "        vertical-align: middle;\n",
       "    }\n",
       "\n",
       "    .dataframe tbody tr th {\n",
       "        vertical-align: top;\n",
       "    }\n",
       "\n",
       "    .dataframe thead th {\n",
       "        text-align: right;\n",
       "    }\n",
       "</style>\n",
       "<table border=\"1\" class=\"dataframe\">\n",
       "  <thead>\n",
       "    <tr style=\"text-align: right;\">\n",
       "      <th></th>\n",
       "      <th>userId</th>\n",
       "      <th>movieId</th>\n",
       "      <th>rating</th>\n",
       "      <th>timestamp</th>\n",
       "    </tr>\n",
       "  </thead>\n",
       "  <tbody>\n",
       "    <tr>\n",
       "      <th>0</th>\n",
       "      <td>12882</td>\n",
       "      <td>1</td>\n",
       "      <td>4.0</td>\n",
       "      <td>1147195252</td>\n",
       "    </tr>\n",
       "    <tr>\n",
       "      <th>1</th>\n",
       "      <td>12882</td>\n",
       "      <td>32</td>\n",
       "      <td>3.5</td>\n",
       "      <td>1147195307</td>\n",
       "    </tr>\n",
       "    <tr>\n",
       "      <th>2</th>\n",
       "      <td>12882</td>\n",
       "      <td>47</td>\n",
       "      <td>5.0</td>\n",
       "      <td>1147195343</td>\n",
       "    </tr>\n",
       "    <tr>\n",
       "      <th>3</th>\n",
       "      <td>12882</td>\n",
       "      <td>50</td>\n",
       "      <td>5.0</td>\n",
       "      <td>1147185499</td>\n",
       "    </tr>\n",
       "    <tr>\n",
       "      <th>4</th>\n",
       "      <td>12882</td>\n",
       "      <td>110</td>\n",
       "      <td>4.5</td>\n",
       "      <td>1147195239</td>\n",
       "    </tr>\n",
       "  </tbody>\n",
       "</table>\n",
       "</div>"
      ],
      "text/plain": [
       "   userId  movieId  rating   timestamp\n",
       "0   12882        1     4.0  1147195252\n",
       "1   12882       32     3.5  1147195307\n",
       "2   12882       47     5.0  1147195343\n",
       "3   12882       50     5.0  1147185499\n",
       "4   12882      110     4.5  1147195239"
      ]
     },
     "execution_count": 5,
     "metadata": {},
     "output_type": "execute_result"
    }
   ],
   "source": [
    "ratings_df = pd.read_csv(RATINGS_FILE)\n",
    "ratings_df.head()"
   ]
  },
  {
   "cell_type": "code",
   "execution_count": 6,
   "metadata": {
    "collapsed": true
   },
   "outputs": [],
   "source": [
    "movies_id2idx, movies_idx2id = {}, {}\n",
    "for idx, movie_id in enumerate(ratings_df[\"movieId\"].unique()):\n",
    "    movies_id2idx[movie_id] = idx\n",
    "    movies_idx2id[idx] = movie_id"
   ]
  },
  {
   "cell_type": "code",
   "execution_count": 7,
   "metadata": {
    "collapsed": true
   },
   "outputs": [],
   "source": [
    "users_id2idx, users_idx2id = {}, {}\n",
    "for idx, user_id in enumerate(ratings_df[\"userId\"].unique()):\n",
    "    users_id2idx[user_id] = idx\n",
    "    users_idx2id[idx] = user_id"
   ]
  },
  {
   "cell_type": "code",
   "execution_count": 8,
   "metadata": {},
   "outputs": [
    {
     "name": "stdout",
     "output_type": "stream",
     "text": [
      "862 2500\n"
     ]
    }
   ],
   "source": [
    "num_users = len(users_id2idx)\n",
    "num_movies = len(movies_id2idx)\n",
    "print(num_users, num_movies)"
   ]
  },
  {
   "cell_type": "code",
   "execution_count": 9,
   "metadata": {},
   "outputs": [
    {
     "name": "stdout",
     "output_type": "stream",
     "text": [
      "(862, 2500)\n"
     ]
    }
   ],
   "source": [
    "def construct_original_matrix(num_users, num_movies, ratings_df, \n",
    "                          users_id2idx, movies_id2idx):\n",
    "    X = np.zeros((num_users, num_movies), dtype=np.float32)\n",
    "    for user_id, movie_id, rating in ratings_df[[\"userId\", \"movieId\", \"rating\"]].values:\n",
    "        X[users_id2idx[user_id], movies_id2idx[movie_id]] = rating\n",
    "    return X\n",
    "\n",
    "R_val = construct_original_matrix(num_users, num_movies, ratings_df,\n",
    "                                  users_id2idx, movies_id2idx)\n",
    "print(R_val.shape)"
   ]
  },
  {
   "cell_type": "markdown",
   "metadata": {},
   "source": [
    "## Compute bias and remove"
   ]
  },
  {
   "cell_type": "code",
   "execution_count": 10,
   "metadata": {},
   "outputs": [
    {
     "name": "stdout",
     "output_type": "stream",
     "text": [
      "   global bias: 3.504\n",
      "     user bias: -0.138\n",
      "     item bias: 0.127\n",
      "user-item bias: 0.265\n",
      "\n",
      "before bias removal:\n",
      " [[4.  3.5 5.  5.  4.5]] ...\n",
      "after user bias removal:\n",
      " [[0.63425964 0.13425966 1.6342597  1.6342597  1.1342597 ]] ...\n",
      "after item bias removal:\n",
      " [[ 0.36936247 -0.13063753  1.3693625   1.3693625   0.8693625 ]] ...\n",
      "after user-item bias removal:\n",
      " [[ 0.3693624  -0.13063757  1.3693625   1.3693625   0.8693625 ]] ...\n"
     ]
    }
   ],
   "source": [
    "def compute_bias(X, bias_type):\n",
    "    Xc = X.copy()\n",
    "    Xc[Xc == 0] = np.nan\n",
    "    if bias_type == \"global\":\n",
    "        return np.nanmean(Xc)\n",
    "    elif bias_type == \"user\":\n",
    "        return np.mean(np.nanmean(Xc, axis=0))\n",
    "    elif bias_type == \"item\":\n",
    "        return np.mean(np.nanmean(Xc, axis=1))\n",
    "    else:\n",
    "        raise Exception(\"invalid bias type, can only be one of global, user and item\")\n",
    "\n",
    "\n",
    "def remove_bias(X, bias):\n",
    "    Xc = X.copy()\n",
    "    Xc[Xc == 0] = np.nan\n",
    "    Xc = np.subtract(Xc, bias)\n",
    "    Xc = np.nan_to_num(Xc)\n",
    "    return Xc\n",
    "\n",
    "        \n",
    "bg = compute_bias(R_val, \"global\")\n",
    "Rg_val = remove_bias(R_val, bg)\n",
    "\n",
    "bu = compute_bias(Rg_val, \"user\")\n",
    "Ru_val = remove_bias(Rg_val, bu)\n",
    "\n",
    "bi = compute_bias(Rg_val, \"item\")\n",
    "Ri_val = remove_bias(Rg_val, bi)\n",
    "\n",
    "bui = compute_bias(Ru_val, \"item\")\n",
    "Rui_val = remove_bias(Ru_val, bui)\n",
    "\n",
    "print(\"   global bias: {:.3f}\".format(bg))\n",
    "print(\"     user bias: {:.3f}\".format(bu))\n",
    "print(\"     item bias: {:.3f}\".format(bi))\n",
    "print(\"user-item bias: {:.3f}\".format(bui))\n",
    "print(\"\")\n",
    "print(\"before bias removal:\\n\", R_val[0:1, 0:5], \"...\")\n",
    "print(\"after user bias removal:\\n\", Ru_val[0:1, 0:5], \"...\")\n",
    "print(\"after item bias removal:\\n\", Ri_val[0:1, 0:5], \"...\")\n",
    "print(\"after user-item bias removal:\\n\", Rui_val[0:1, 0:5], \"...\")"
   ]
  },
  {
   "cell_type": "markdown",
   "metadata": {},
   "source": [
    "## Reduce dimensions"
   ]
  },
  {
   "cell_type": "code",
   "execution_count": 11,
   "metadata": {},
   "outputs": [
    {
     "name": "stdout",
     "output_type": "stream",
     "text": [
      "reconstruction error (RMSE): 0.911226\n",
      "percentage of variance explained: 0.700\n",
      "shape of reconstructed matrix:  (862, 2500)\n"
     ]
    }
   ],
   "source": [
    "def reconstruct_using_svd(X, k):\n",
    "    \n",
    "    if k == 0:\n",
    "        return X, 1., 0.\n",
    "    \n",
    "    graph = tf.Graph()\n",
    "    with graph.as_default():\n",
    "        \n",
    "        # input arg\n",
    "        R = tf.placeholder(tf.float32, shape=(num_users, num_movies), name=\"R\")\n",
    "        \n",
    "        # run SVD\n",
    "        S, U, Vt = tf.svd(R, full_matrices=True)\n",
    "        \n",
    "        # reduce dimensions\n",
    "        Sk = tf.diag(S)[0:k, 0:k]\n",
    "        Uk = U[:, 0:k]\n",
    "        Vk = tf.transpose(Vt)[0:k, :]\n",
    "\n",
    "        # reconstruct matrix\n",
    "#         Rprime = tf.matmul(tf.matmul(Uk, Sk), Vk)\n",
    "        Rprime = tf.matmul(Uk, tf.matmul(Sk, Vk))\n",
    "\n",
    "        \n",
    "        # compute reconstruction RMSE\n",
    "        rsquared = tf.linalg.norm(Rprime) / tf.linalg.norm(R)\n",
    "        rmse = tf.metrics.root_mean_squared_error(R, Rprime)[1]\n",
    "        \n",
    "    with tf.Session(graph=graph) as sess:\n",
    "        \n",
    "        tf.global_variables_initializer().run()\n",
    "        tf.local_variables_initializer().run()\n",
    "        \n",
    "        [Rprime_val, rsquared_val, rmse_val] = sess.run(\n",
    "            [Rprime, rsquared, rmse], feed_dict={R: X})\n",
    "        return Rprime_val, rsquared_val, rmse_val\n",
    "\n",
    "\n",
    "R_rec, rsquared, rec_err = reconstruct_using_svd(R_val, 10)\n",
    "\n",
    "print(\"reconstruction error (RMSE):\", rec_err)\n",
    "print(\"percentage of variance explained: {:.3f}\".format(rsquared))\n",
    "print(\"shape of reconstructed matrix: \", R_rec.shape)"
   ]
  },
  {
   "cell_type": "markdown",
   "metadata": {},
   "source": [
    "## Predict and Recommend"
   ]
  },
  {
   "cell_type": "code",
   "execution_count": 12,
   "metadata": {},
   "outputs": [
    {
     "name": "stdout",
     "output_type": "stream",
     "text": [
      "(320, 153, 'Batman Forever (1995)', 3.5883482)\n",
      "(320, 260, 'Star Wars: Episode IV - A New Hope (1977)', 4.031598)\n",
      "(320, 527, \"Schindler's List (1993)\", 3.769835)\n",
      "(320, 588, 'Aladdin (1992)', 3.5995538)\n",
      "---\n",
      "(320, 2571, 'Matrix, The (1999)', 4.281472)\n",
      "(320, 2959, 'Fight Club (1999)', 4.2387533)\n",
      "(320, 4993, 'Lord of the Rings: The Fellowship of the Ring, The (2001)', 4.0973997)\n",
      "(320, 296, 'Pulp Fiction (1994)', 4.089973)\n",
      "(320, 1196, 'Star Wars: Episode V - The Empire Strikes Back (1980)', 4.0807734)\n",
      "(320, 1136, 'Monty Python and the Holy Grail (1975)', 4.055152)\n",
      "(320, 5952, 'Lord of the Rings: The Two Towers, The (2002)', 4.0527725)\n",
      "(320, 7153, 'Lord of the Rings: The Return of the King, The (2003)', 4.0478134)\n",
      "(320, 260, 'Star Wars: Episode IV - A New Hope (1977)', 4.031599)\n",
      "(320, 4973, \"Amelie (Fabuleux destin d'Amélie Poulain, Le) (2001)\", 4.020437)\n"
     ]
    }
   ],
   "source": [
    "def predict(user_id, movie_ids, X_rec, bias, \n",
    "            users_id2idx, movies_id2idx, movies_id2name):\n",
    "    predictions = []\n",
    "    for movie_id in sorted(movie_ids):\n",
    "        user_idx = users_id2idx[user_id]\n",
    "        movie_idx = movies_id2idx[movie_id]\n",
    "        movie_name = movies_id2name[movie_id]\n",
    "        prediction = bias + X_rec[user_idx, movie_idx]\n",
    "        predictions.append((user_id, movie_id, movie_name, prediction))\n",
    "    return predictions\n",
    "\n",
    "\n",
    "def recommend(user_id, X_rec, top_n, bias, \n",
    "              users_id2idx, movies_idx2id, movies_id2name):\n",
    "    user_idx = users_id2idx[user_id]\n",
    "    rec_movies_idxs = np.argsort(-1 * X_rec[user_idx])[0:top_n]\n",
    "    recommendations = []\n",
    "    for movie_idx in rec_movies_idxs:\n",
    "        movie_id = movies_idx2id[movie_idx]\n",
    "        movie_name = movies_id2name[movie_id]\n",
    "        pred_rating = bias + X_rec[user_idx, movie_idx]\n",
    "        recommendations.append((user_id, movie_id, movie_name, pred_rating))\n",
    "    return recommendations\n",
    "\n",
    "\n",
    "R_rec, _, _ = reconstruct_using_svd(Rui_val, 50)\n",
    "preds = predict(320, [260, 153, 527, 588], R_rec, bg + bu + bui, users_id2idx, \n",
    "                movies_id2idx, movies_id2name)\n",
    "for pred in preds:\n",
    "    print(pred)\n",
    "print(\"---\")\n",
    "R_rec, _, _ = reconstruct_using_svd(Ri_val, 50)\n",
    "recs = recommend(320, R_rec, 10, bg + bi, users_id2idx, movies_idx2id, movies_id2name)\n",
    "for rec in recs:\n",
    "    print(rec)"
   ]
  },
  {
   "cell_type": "markdown",
   "metadata": {},
   "source": [
    "## Evaluate"
   ]
  },
  {
   "cell_type": "code",
   "execution_count": 13,
   "metadata": {},
   "outputs": [
    {
     "name": "stdout",
     "output_type": "stream",
     "text": [
      "running evaluation for k=0\n",
      ".. k=0, bias-model=none, reconstruction: R^2=1.000, RMSE=0.000\n",
      ".. k=0, bias-model=global, reconstruction: R^2=1.000, RMSE=0.000\n",
      ".. k=0, bias-model=user, reconstruction: R^2=1.000, RMSE=0.000\n",
      ".. k=0, bias-model=item, reconstruction: R^2=1.000, RMSE=0.000\n",
      ".. k=0, bias-model=user-item, reconstruction: R^2=1.000, RMSE=0.000\n",
      "running evaluation for k=1\n",
      ".. k=1, bias-model=none, reconstruction: R^2=0.592, RMSE=1.028\n",
      ".. k=1, bias-model=global, reconstruction: R^2=0.285, RMSE=0.334\n",
      ".. k=1, bias-model=user, reconstruction: R^2=0.314, RMSE=0.334\n",
      ".. k=1, bias-model=item, reconstruction: R^2=0.305, RMSE=0.334\n",
      ".. k=1, bias-model=user-item, reconstruction: R^2=0.305, RMSE=0.334\n",
      "running evaluation for k=5\n",
      ".. k=5, bias-model=none, reconstruction: R^2=0.664, RMSE=0.954\n",
      ".. k=5, bias-model=global, reconstruction: R^2=0.431, RMSE=0.314\n",
      ".. k=5, bias-model=user, reconstruction: R^2=0.444, RMSE=0.315\n",
      ".. k=5, bias-model=item, reconstruction: R^2=0.430, RMSE=0.317\n",
      ".. k=5, bias-model=user-item, reconstruction: R^2=0.430, RMSE=0.317\n",
      "running evaluation for k=10\n",
      ".. k=10, bias-model=none, reconstruction: R^2=0.700, RMSE=0.911\n",
      ".. k=10, bias-model=global, reconstruction: R^2=0.482, RMSE=0.305\n",
      ".. k=10, bias-model=user, reconstruction: R^2=0.494, RMSE=0.305\n",
      ".. k=10, bias-model=item, reconstruction: R^2=0.479, RMSE=0.308\n",
      ".. k=10, bias-model=user-item, reconstruction: R^2=0.479, RMSE=0.308\n",
      "running evaluation for k=15\n",
      ".. k=15, bias-model=none, reconstruction: R^2=0.716, RMSE=0.890\n",
      ".. k=15, bias-model=global, reconstruction: R^2=0.516, RMSE=0.298\n",
      ".. k=15, bias-model=user, reconstruction: R^2=0.527, RMSE=0.299\n",
      ".. k=15, bias-model=item, reconstruction: R^2=0.514, RMSE=0.301\n",
      ".. k=15, bias-model=user-item, reconstruction: R^2=0.514, RMSE=0.301\n",
      "running evaluation for k=20\n",
      ".. k=20, bias-model=none, reconstruction: R^2=0.729, RMSE=0.874\n",
      ".. k=20, bias-model=global, reconstruction: R^2=0.544, RMSE=0.292\n",
      ".. k=20, bias-model=user, reconstruction: R^2=0.554, RMSE=0.293\n",
      ".. k=20, bias-model=item, reconstruction: R^2=0.543, RMSE=0.295\n",
      ".. k=20, bias-model=user-item, reconstruction: R^2=0.543, RMSE=0.295\n",
      "running evaluation for k=25\n",
      ".. k=25, bias-model=none, reconstruction: R^2=0.739, RMSE=0.859\n",
      ".. k=25, bias-model=global, reconstruction: R^2=0.568, RMSE=0.286\n",
      ".. k=25, bias-model=user, reconstruction: R^2=0.577, RMSE=0.287\n",
      ".. k=25, bias-model=item, reconstruction: R^2=0.567, RMSE=0.289\n",
      ".. k=25, bias-model=user-item, reconstruction: R^2=0.567, RMSE=0.289\n",
      "running evaluation for k=30\n",
      ".. k=30, bias-model=none, reconstruction: R^2=0.749, RMSE=0.846\n",
      ".. k=30, bias-model=global, reconstruction: R^2=0.589, RMSE=0.281\n",
      ".. k=30, bias-model=user, reconstruction: R^2=0.597, RMSE=0.282\n",
      ".. k=30, bias-model=item, reconstruction: R^2=0.589, RMSE=0.284\n",
      ".. k=30, bias-model=user-item, reconstruction: R^2=0.589, RMSE=0.284\n",
      "running evaluation for k=40\n",
      ".. k=40, bias-model=none, reconstruction: R^2=0.764, RMSE=0.823\n",
      ".. k=40, bias-model=global, reconstruction: R^2=0.626, RMSE=0.272\n",
      ".. k=40, bias-model=user, reconstruction: R^2=0.632, RMSE=0.272\n",
      ".. k=40, bias-model=item, reconstruction: R^2=0.626, RMSE=0.274\n",
      ".. k=40, bias-model=user-item, reconstruction: R^2=0.626, RMSE=0.274\n",
      "running evaluation for k=50\n",
      ".. k=50, bias-model=none, reconstruction: R^2=0.778, RMSE=0.802\n",
      ".. k=50, bias-model=global, reconstruction: R^2=0.656, RMSE=0.263\n",
      ".. k=50, bias-model=user, reconstruction: R^2=0.661, RMSE=0.264\n",
      ".. k=50, bias-model=item, reconstruction: R^2=0.657, RMSE=0.265\n",
      ".. k=50, bias-model=user-item, reconstruction: R^2=0.657, RMSE=0.265\n"
     ]
    }
   ],
   "source": [
    "def print_console(fconsole, X, k, bias_model, bias,\n",
    "                  users_id2idx, movies_id2idx, movies_idx2id, \n",
    "                  movies_id2name):\n",
    "    fconsole.write(\"#### predict -PuserId=320 -PitemIds=260,153,527,588 -PbiasModel={:s} -PfeatureCount={:d}\\n\"\n",
    "                   .format(bias_model, k))\n",
    "    predictions = predict(320, [260, 153, 527, 588], X, bias, \n",
    "                          users_id2idx, movies_id2idx, movies_id2name)\n",
    "    for user_id, movie_id, movie_name, prediction in predictions:\n",
    "        fconsole.write(\"\\t{:d}\\t{:d}\\t{:s}\\t{:.3f}\\n\"\n",
    "            .format(user_id, movie_id, movie_name, prediction))\n",
    "    fconsole.write(\"#### recommend -PuserId=320 -PbiasModel={:s} -PfeatureCount={:d}\\n\"\n",
    "                   .format(bias_model, k))\n",
    "    recommendations = recommend(320, X, 10, bias, users_id2idx, \n",
    "                                movies_idx2id, movies_id2name)\n",
    "    for user_id, movie_id, movie_name, pred_rating in recommendations:\n",
    "        fconsole.write(\"\\t{:d}\\t{:d}\\t{:s}\\t{:.3f}\\n\"\n",
    "            .format(user_id, movie_id, movie_name, pred_rating))\n",
    "    fconsole.write(\"\\n\")\n",
    "\n",
    "\n",
    "kvalues = [0, 1, 5, 10, 15, 20, 25, 30, 40, 50]\n",
    "bias_models = [\"none\", \"global\", \"user\", \"item\", \"user-item\"]\n",
    "\n",
    "fresults = open(RESULTS_FILE, \"w\")\n",
    "fconsole = open(CONSOLE_FILE, \"w\")\n",
    "for k in kvalues:\n",
    "    print(\"running evaluation for k={:d}\".format(k))\n",
    "    # reconstruct original matrix\n",
    "    R_val = np.zeros((num_users, num_movies), dtype=np.float32)\n",
    "    for user_id, movie_id, rating in ratings_df[[\"userId\", \"movieId\", \"rating\"]].values:\n",
    "        R_val[users_id2idx[user_id], movies_id2idx[movie_id]] = rating\n",
    "    # no bias\n",
    "    bias_model = bias_models[0]\n",
    "    R_rec, rsquared, rmse = reconstruct_using_svd(R_val, k)\n",
    "    print(\".. k={:d}, bias-model={:s}, reconstruction: R^2={:.3f}, RMSE={:.3f}\"\n",
    "          .format(k, bias_model, rsquared, rmse))\n",
    "    fresults.write(\"{:d}\\t{:s}\\t{:.7f}\\t{:.7f}\\n\".format(k, bias_model, rsquared, rmse))\n",
    "    print_console(fconsole, R_rec, k, bias_model, 0, users_id2idx, \n",
    "                  movies_id2idx, movies_idx2id, movies_id2name)\n",
    "    # global bias\n",
    "    bias_model = bias_models[1]\n",
    "    bg = compute_bias(R_val, bias_model)\n",
    "    Rg_val = remove_bias(R_val, bg)\n",
    "    R_rec, rsquared, rmse = reconstruct_using_svd(Rg_val, k)\n",
    "    print(\".. k={:d}, bias-model={:s}, reconstruction: R^2={:.3f}, RMSE={:.3f}\"\n",
    "          .format(k, bias_model, rsquared, rmse))\n",
    "    fresults.write(\"{:d}\\t{:s}\\t{:.7f}\\t{:.7f}\\n\".format(k, bias_model, rsquared, rmse))\n",
    "    print_console(fconsole, R_rec, k, bias_model, bg, users_id2idx, \n",
    "                  movies_id2idx, movies_idx2id, movies_id2name)\n",
    "    # global + user bias\n",
    "    bias_model = bias_models[2]\n",
    "    bu = compute_bias(Rg_val, bias_model)\n",
    "    Ru_val = remove_bias(Rg_val, bu)\n",
    "    R_rec, rsquared, rmse = reconstruct_using_svd(Ru_val, k)\n",
    "    print(\".. k={:d}, bias-model={:s}, reconstruction: R^2={:.3f}, RMSE={:.3f}\"\n",
    "          .format(k, bias_model, rsquared, rmse))\n",
    "    fresults.write(\"{:d}\\t{:s}\\t{:.7f}\\t{:.7f}\\n\".format(k, bias_model, rsquared, rmse))\n",
    "    print_console(fconsole, R_rec, k, bias_model, bg + bu, users_id2idx, \n",
    "                  movies_id2idx, movies_idx2id, movies_id2name)\n",
    "    # global + item bias\n",
    "    bias_model = bias_models[3]\n",
    "    bi = compute_bias(Rg_val, bias_model)\n",
    "    Ri_val = remove_bias(Rg_val, bi)\n",
    "    R_rec, rsquared, rmse = reconstruct_using_svd(Ri_val, k)\n",
    "    print(\".. k={:d}, bias-model={:s}, reconstruction: R^2={:.3f}, RMSE={:.3f}\"\n",
    "          .format(k, bias_model, rsquared, rmse))\n",
    "    fresults.write(\"{:d}\\t{:s}\\t{:.7f}\\t{:.7f}\\n\".format(k, bias_model, rsquared, rmse))\n",
    "    print_console(fconsole, R_rec, k, bias_model, bg + bi, users_id2idx, \n",
    "                  movies_id2idx, movies_idx2id, movies_id2name)\n",
    "    # global + user bias + item bias (user-item)\n",
    "    bias_model = bias_models[4]\n",
    "    bui = compute_bias(Ru_val, \"item\")\n",
    "    Rui_val = remove_bias(Ru_val, bui)\n",
    "    R_rec, rsquared, rmse = reconstruct_using_svd(Rui_val, k)\n",
    "    print(\".. k={:d}, bias-model={:s}, reconstruction: R^2={:.3f}, RMSE={:.3f}\"\n",
    "          .format(k, bias_model, rsquared, rmse))\n",
    "    fresults.write(\"{:d}\\t{:s}\\t{:.7f}\\t{:.7f}\\n\".format(k, bias_model, rsquared, rmse))\n",
    "    print_console(fconsole, R_rec, k, bias_model, bg + bu + bui, users_id2idx, \n",
    "                  movies_id2idx, movies_idx2id, movies_id2name)\n",
    "\n",
    "fresults.close()\n",
    "fconsole.close()"
   ]
  },
  {
   "cell_type": "markdown",
   "metadata": {},
   "source": [
    "## Visualize Reconstruction RMSE vs target dimension"
   ]
  },
  {
   "cell_type": "code",
   "execution_count": 21,
   "metadata": {},
   "outputs": [
    {
     "data": {
      "image/png": "[encoded data removed]",
      "text/plain": [
       "<matplotlib.figure.Figure at 0x7fa1a092e978>"
      ]
     },
     "metadata": {},
     "output_type": "display_data"
    }
   ],
   "source": [
    "colors = [\"c\", \"b\", \"m\", \"g\", \"r\"]\n",
    "\n",
    "# plt.figure(figsize=(10, 10))\n",
    "plt.title(\"Reconstruction Errors\")\n",
    "plt.ylabel(\"RMSE\")\n",
    "plt.xlabel(\"k\")\n",
    "for i, bias_model in enumerate(bias_models):\n",
    "    if bias_model == \"none\":\n",
    "        continue\n",
    "    xs, ys_rsquared, ys_rmse = [], [], []\n",
    "    fresults = open(RESULTS_FILE, \"r\")\n",
    "    for line in fresults:\n",
    "        k, b, rsquared, rmse = line.strip().split(\"\\t\")\n",
    "        k = int(k)\n",
    "        rmse = float(rmse)\n",
    "        rsquared = float(rsquared)\n",
    "        if k == 0:\n",
    "            continue\n",
    "        if b == bias_model and k in kvalues:\n",
    "            xs.append(k)\n",
    "            ys_rsquared.append(rsquared)\n",
    "            ys_rmse.append(rmse)\n",
    "    fresults.close()\n",
    "    plt.plot(xs, ys_rmse, marker=\"o\", color=colors[i], label=bias_model)\n",
    "\n",
    "p = plt.legend(loc=\"best\")"
   ]
  },
  {
   "cell_type": "code",
   "execution_count": 19,
   "metadata": {
    "scrolled": true
   },
   "outputs": [
    {
     "data": {
      "image/png": "[encoded data removed]",
      "text/plain": [
       "<matplotlib.figure.Figure at 0x7fa1c31613c8>"
      ]
     },
     "metadata": {},
     "output_type": "display_data"
    }
   ],
   "source": [
    "colors = [\"c\", \"b\", \"m\", \"g\", \"r\"]\n",
    "\n",
    "# plt.figure(figsize=(10, 10))\n",
    "plt.title(\"Explained Variance\")\n",
    "plt.ylabel(\"R-squared\")\n",
    "plt.xlabel(\"k\")\n",
    "for i, bias_model in enumerate(bias_models):\n",
    "    if bias_model == \"none\":\n",
    "        continue\n",
    "    xs, ys_rsquared, ys_rmse = [], [], []\n",
    "    fresults = open(RESULTS_FILE, \"r\")\n",
    "    for line in fresults:\n",
    "        k, b, rsquared, rmse = line.strip().split(\"\\t\")\n",
    "        k = int(k)\n",
    "        rmse = float(rmse)\n",
    "        rsquared = float(rsquared)\n",
    "        if k == 0:\n",
    "            continue\n",
    "        if b == bias_model and k in kvalues:\n",
    "            xs.append(k)\n",
    "            ys_rsquared.append(rsquared)\n",
    "            ys_rmse.append(rmse)\n",
    "    fresults.close()\n",
    "    plt.plot(xs, ys_rsquared, marker=\"*\", color=colors[i], label=bias_model)\n",
    "\n",
    "p = plt.legend(loc=\"best\")"
   ]
  },
  {
   "cell_type": "code",
   "execution_count": null,
   "metadata": {
    "collapsed": true
   },
   "outputs": [],
   "source": []
  }
 ],
 "metadata": {
  "kernelspec": {
   "display_name": "Python 3",
   "language": "python",
   "name": "python3"
  },
  "language_info": {
   "codemirror_mode": {
    "name": "ipython",
    "version": 3
   },
   "file_extension": ".py",
   "mimetype": "text/x-python",
   "name": "python",
   "nbconvert_exporter": "python",
   "pygments_lexer": "ipython3",
   "version": "3.6.3"
  }
 },
 "nbformat": 4,
 "nbformat_minor": 2
}
